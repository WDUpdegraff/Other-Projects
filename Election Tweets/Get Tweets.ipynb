{
 "cells": [
  {
   "cell_type": "code",
   "execution_count": 1,
   "metadata": {
    "collapsed": true
   },
   "outputs": [],
   "source": [
    "from __future__ import print_function"
   ]
  },
  {
   "cell_type": "code",
   "execution_count": 2,
   "metadata": {
    "collapsed": false
   },
   "outputs": [],
   "source": [
    "# pip install requests_oauthlib\n",
    "import requests\n",
    "from requests_oauthlib import OAuth1\n",
    "\n",
    "#OAuth ~ simple way to to publish & interact with data"
   ]
  },
  {
   "cell_type": "code",
   "execution_count": 3,
   "metadata": {
    "collapsed": true
   },
   "outputs": [],
   "source": [
    "# Importing our Config\n",
    "#pip install cnfg   ##  Create a config file in your home directory \n",
    "\n",
    "import cnfg"
   ]
  },
  {
   "cell_type": "code",
   "execution_count": 4,
   "metadata": {
    "collapsed": true
   },
   "outputs": [],
   "source": [
    "from pprint import pprint"
   ]
  },
  {
   "cell_type": "code",
   "execution_count": 5,
   "metadata": {
    "collapsed": false
   },
   "outputs": [],
   "source": [
    "credentials = cnfg.load(\"Metis_Class/twitter_config.cfg\")\n",
    "\n",
    "# oauth = OAuth1(config[\"consumer_key\"],\n",
    "#                config[\"consumer_secret\"],\n",
    "#                config[\"access_token\"],\n",
    "#                config[\"access_token_secret\"])"
   ]
  },
  {
   "cell_type": "code",
   "execution_count": 6,
   "metadata": {
    "collapsed": false
   },
   "outputs": [],
   "source": [
    "# credentials = json.loads(open('oauth.txt').read())\n",
    "# credentials\n",
    "from requests_oauthlib import OAuth1Session\n",
    "\n",
    "twitter = OAuth1Session(client_key=credentials[\"consumer_key\"],\n",
    "                    client_secret=credentials[\"consumer_secret\"],\n",
    "                    resource_owner_key=credentials[\"access_token\"],\n",
    "                    resource_owner_secret=credentials[\"access_token_secret\"])"
   ]
  },
  {
   "cell_type": "code",
   "execution_count": 19,
   "metadata": {
    "collapsed": false
   },
   "outputs": [],
   "source": [
    "import pandas as pd\n",
    "candidates = [\"realdonaldtrump\", \"hillaryclinton\"]\n",
    "\n",
    "\n",
    "for candidate in candidates:\n",
    "    oldtweets = pd.read_csv(candidate + '_tweets.csv', index_col = 0)\n",
    "    base_url = \"https://api.twitter.com/1.1/statuses/user_timeline.json?screen_name=%s&count=100\" % candidate\n",
    "    tweets = pd.DataFrame(columns=[\"id\", \"text\", \"created_at\", \"favorite_count\", 'retweet_count'])\n",
    "    maxid = str(twitter.get(base_url).json()[0]['id'])\n",
    "\n",
    "    for j in range(0, 35):#35\n",
    "        r = twitter.get(base_url+\"&max_id=\"+maxid)\n",
    "        for i in r.json():\n",
    "            tweets.loc[tweets.shape[0]] = [str(i[\"id\"]), i[\"text\"], i[\"created_at\"], i[\"favorite_count\"], i['retweet_count']]\n",
    "            maxid = str(i[\"id\"])\n",
    "    tweets = pd.concat([tweets,oldtweets])\n",
    "    tweets = tweets.drop_duplicates(subset=[\"id\"])\n",
    "    tweets.to_csv(candidate + '_tweets.csv', encoding='utf-8') "
   ]
  }
 ],
 "metadata": {
  "kernelspec": {
   "display_name": "Python 3",
   "language": "python",
   "name": "python3"
  },
  "language_info": {
   "codemirror_mode": {
    "name": "ipython",
    "version": 3
   },
   "file_extension": ".py",
   "mimetype": "text/x-python",
   "name": "python",
   "nbconvert_exporter": "python",
   "pygments_lexer": "ipython3",
   "version": "3.5.2"
  }
 },
 "nbformat": 4,
 "nbformat_minor": 0
}
