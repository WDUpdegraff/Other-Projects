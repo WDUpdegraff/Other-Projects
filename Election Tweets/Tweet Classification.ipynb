{
 "cells": [
  {
   "cell_type": "code",
   "execution_count": 1,
   "metadata": {
    "collapsed": true
   },
   "outputs": [],
   "source": [
    "import pandas as pd\n",
    "import numpy as np\n",
    "from sklearn.feature_extraction.text import CountVectorizer, TfidfVectorizer, TfidfTransformer\n",
    "from sklearn.ensemble import RandomForestClassifier as rf\n",
    "from xgboost import XGBClassifier as xgb\n",
    "from sklearn.naive_bayes import MultinomialNB, GaussianNB\n",
    "from sklearn.pipeline import TransformerMixin, FeatureUnion, make_pipeline, make_union, Pipeline\n",
    "from sklearn.linear_model import LogisticRegression\n",
    "from sklearn.grid_search import GridSearchCV\n",
    "from sklearn.cross_validation import cross_val_score, train_test_split, KFold\n",
    "from sklearn.decomposition import TruncatedSVD\n",
    "import matplotlib.pyplot as plt\n",
    "from sklearn.metrics import roc_auc_score, precision_recall_curve, roc_curve\n",
    "%matplotlib inline"
   ]
  },
  {
   "cell_type": "code",
   "execution_count": 2,
   "metadata": {
    "collapsed": false
   },
   "outputs": [
    {
     "data": {
      "text/html": [
       "<div>\n",
       "<table border=\"1\" class=\"dataframe\">\n",
       "  <thead>\n",
       "    <tr style=\"text-align: right;\">\n",
       "      <th></th>\n",
       "      <th>id</th>\n",
       "      <th>text</th>\n",
       "      <th>created_at</th>\n",
       "      <th>favorite_count</th>\n",
       "      <th>retweet_count</th>\n",
       "      <th>author</th>\n",
       "    </tr>\n",
       "  </thead>\n",
       "  <tbody>\n",
       "    <tr>\n",
       "      <th>0</th>\n",
       "      <td>804052438546317312</td>\n",
       "      <td>'Donald Trump is already helping the working c...</td>\n",
       "      <td>Wed Nov 30 20:00:14 +0000 2016</td>\n",
       "      <td>26295.0</td>\n",
       "      <td>7769.0</td>\n",
       "      <td>Trump</td>\n",
       "    </tr>\n",
       "    <tr>\n",
       "      <th>1</th>\n",
       "      <td>804050182170116096</td>\n",
       "      <td>RT @DanScavino: Great interview on @foxandfrie...</td>\n",
       "      <td>Wed Nov 30 19:51:16 +0000 2016</td>\n",
       "      <td>0.0</td>\n",
       "      <td>4025.0</td>\n",
       "      <td>Trump</td>\n",
       "    </tr>\n",
       "    <tr>\n",
       "      <th>2</th>\n",
       "      <td>803997374016167936</td>\n",
       "      <td>'President-elect Donald J. Trump today announc...</td>\n",
       "      <td>Wed Nov 30 16:21:26 +0000 2016</td>\n",
       "      <td>16394.0</td>\n",
       "      <td>4984.0</td>\n",
       "      <td>Trump</td>\n",
       "    </tr>\n",
       "    <tr>\n",
       "      <th>3</th>\n",
       "      <td>803982850081099776</td>\n",
       "      <td>Join me in Cincinnati, Ohio tomorrow evening a...</td>\n",
       "      <td>Wed Nov 30 15:23:43 +0000 2016</td>\n",
       "      <td>21000.0</td>\n",
       "      <td>6044.0</td>\n",
       "      <td>Trump</td>\n",
       "    </tr>\n",
       "    <tr>\n",
       "      <th>4</th>\n",
       "      <td>803931490514075648</td>\n",
       "      <td>Hence, legal documents are being crafted which...</td>\n",
       "      <td>Wed Nov 30 11:59:38 +0000 2016</td>\n",
       "      <td>60793.0</td>\n",
       "      <td>14874.0</td>\n",
       "      <td>Trump</td>\n",
       "    </tr>\n",
       "  </tbody>\n",
       "</table>\n",
       "</div>"
      ],
      "text/plain": [
       "                   id                                               text  \\\n",
       "0  804052438546317312  'Donald Trump is already helping the working c...   \n",
       "1  804050182170116096  RT @DanScavino: Great interview on @foxandfrie...   \n",
       "2  803997374016167936  'President-elect Donald J. Trump today announc...   \n",
       "3  803982850081099776  Join me in Cincinnati, Ohio tomorrow evening a...   \n",
       "4  803931490514075648  Hence, legal documents are being crafted which...   \n",
       "\n",
       "                       created_at  favorite_count  retweet_count author  \n",
       "0  Wed Nov 30 20:00:14 +0000 2016         26295.0         7769.0  Trump  \n",
       "1  Wed Nov 30 19:51:16 +0000 2016             0.0         4025.0  Trump  \n",
       "2  Wed Nov 30 16:21:26 +0000 2016         16394.0         4984.0  Trump  \n",
       "3  Wed Nov 30 15:23:43 +0000 2016         21000.0         6044.0  Trump  \n",
       "4  Wed Nov 30 11:59:38 +0000 2016         60793.0        14874.0  Trump  "
      ]
     },
     "execution_count": 2,
     "metadata": {},
     "output_type": "execute_result"
    }
   ],
   "source": [
    "trump_tweets = pd.read_csv('realdonaldtrump_tweets.csv')\n",
    "clinton_tweets = pd.read_csv('hillaryclinton_tweets.csv')\n",
    "\n",
    "trump_tweets[\"author\"] = \"Trump\"\n",
    "clinton_tweets[\"author\"] = \"Clinton\"\n",
    "\n",
    "tweets = pd.concat([trump_tweets, clinton_tweets])\n",
    "tweets = tweets[[ u'id', u'text', u'created_at', u'favorite_count', u'retweet_count', u'author']]\n",
    "tweets[\"id\"] = tweets[\"id\"].astype(\"str\")\n",
    "tweets = tweets.reset_index()\n",
    "tweets = tweets.drop(\"index\",1)\n",
    "tweets.head()"
   ]
  },
  {
   "cell_type": "code",
   "execution_count": 3,
   "metadata": {
    "collapsed": false
   },
   "outputs": [
    {
     "data": {
      "text/html": [
       "<div>\n",
       "<table border=\"1\" class=\"dataframe\">\n",
       "  <thead>\n",
       "    <tr style=\"text-align: right;\">\n",
       "      <th></th>\n",
       "      <th>favorite_count</th>\n",
       "      <th>retweet_count</th>\n",
       "      <th>percentPunctuation</th>\n",
       "      <th>percentEscQ</th>\n",
       "      <th>percentInCaps</th>\n",
       "      <th>numHastags</th>\n",
       "      <th>numMentions</th>\n",
       "      <th>manrt</th>\n",
       "      <th>-H</th>\n",
       "    </tr>\n",
       "    <tr>\n",
       "      <th>author</th>\n",
       "      <th></th>\n",
       "      <th></th>\n",
       "      <th></th>\n",
       "      <th></th>\n",
       "      <th></th>\n",
       "      <th></th>\n",
       "      <th></th>\n",
       "      <th></th>\n",
       "      <th></th>\n",
       "    </tr>\n",
       "  </thead>\n",
       "  <tbody>\n",
       "    <tr>\n",
       "      <th>Clinton</th>\n",
       "      <td>7037.183357</td>\n",
       "      <td>3700.711225</td>\n",
       "      <td>0.064635</td>\n",
       "      <td>0.000993</td>\n",
       "      <td>0.094352</td>\n",
       "      <td>0.142835</td>\n",
       "      <td>0.511256</td>\n",
       "      <td>0.000000</td>\n",
       "      <td>0.024065</td>\n",
       "    </tr>\n",
       "    <tr>\n",
       "      <th>Trump</th>\n",
       "      <td>19850.289228</td>\n",
       "      <td>7297.437733</td>\n",
       "      <td>0.059820</td>\n",
       "      <td>0.007819</td>\n",
       "      <td>0.142835</td>\n",
       "      <td>0.491283</td>\n",
       "      <td>0.615816</td>\n",
       "      <td>0.084215</td>\n",
       "      <td>0.000467</td>\n",
       "    </tr>\n",
       "  </tbody>\n",
       "</table>\n",
       "</div>"
      ],
      "text/plain": [
       "         favorite_count  retweet_count  percentPunctuation  percentEscQ  \\\n",
       "author                                                                    \n",
       "Clinton     7037.183357    3700.711225            0.064635     0.000993   \n",
       "Trump      19850.289228    7297.437733            0.059820     0.007819   \n",
       "\n",
       "         percentInCaps  numHastags  numMentions     manrt        -H  \n",
       "author                                                               \n",
       "Clinton       0.094352    0.142835     0.511256  0.000000  0.024065  \n",
       "Trump         0.142835    0.491283     0.615816  0.084215  0.000467  "
      ]
     },
     "execution_count": 3,
     "metadata": {},
     "output_type": "execute_result"
    }
   ],
   "source": [
    "def percentInCaps(s):\n",
    "    inCaps = sum(1 for c in s if c.isupper())\n",
    "    inLowerCase = sum(1 for c in s if c.islower())\n",
    "    return inCaps/float(inCaps + inLowerCase) \n",
    "\n",
    "def num_hashtags(s):\n",
    "    return sum(1 for c in s if c == \"#\")\n",
    "\n",
    "def num_mentions(s):\n",
    "    return sum(1 for c in s if c == \"@\")\n",
    "\n",
    "punctuation = '!\"$%&\\'()*+,-./:;<=>?[\\\\]^_`{|}~'\n",
    "def percentPunctuation(s):\n",
    "    return sum(1 for c in s if c in punctuation)/float(len(s))\n",
    "\n",
    "def manrt(s):\n",
    "    return ((s[0] in ['\"',\"'\"]) + (s[1] == '@') + (s[-1] in ['\"',\"'\"]) == 3) + 0\n",
    "\n",
    "def sh(s):\n",
    "    return int('-H' in s)\n",
    "\n",
    "def percentesc(s):\n",
    "    return sum(1 for c in s if c in '!?')/float(len(s))\n",
    "\n",
    "    \n",
    "tweets[\"percentPunctuation\"] = tweets[\"text\"].apply(lambda x: percentPunctuation(x)) \n",
    "tweets[\"percentEscQ\"] = tweets[\"text\"].apply(percentesc,1)\n",
    "tweets[\"percentInCaps\"] = tweets[\"text\"].apply(lambda x: percentInCaps(x))    \n",
    "tweets[\"numHastags\"] = tweets[\"text\"].apply(lambda x: num_hashtags(x))\n",
    "tweets[\"numMentions\"] = tweets[\"text\"].apply(lambda x: num_mentions(x))\n",
    "tweets[\"manrt\"] = tweets[\"text\"].apply(manrt,1)\n",
    "tweets['-H'] = tweets[\"text\"].apply(sh,1)\n",
    "\n",
    "\n",
    "# Get a summary of Clinton vs. Trump Tweet attributes\n",
    "tweets.groupby(\"author\").mean()"
   ]
  },
  {
   "cell_type": "code",
   "execution_count": 4,
   "metadata": {
    "collapsed": false
   },
   "outputs": [
    {
     "data": {
      "text/html": [
       "<div>\n",
       "<table border=\"1\" class=\"dataframe\">\n",
       "  <thead>\n",
       "    <tr style=\"text-align: right;\">\n",
       "      <th></th>\n",
       "      <th>id</th>\n",
       "      <th>text</th>\n",
       "      <th>created_at</th>\n",
       "      <th>favorite_count</th>\n",
       "      <th>retweet_count</th>\n",
       "      <th>author</th>\n",
       "      <th>percentPunctuation</th>\n",
       "      <th>percentEscQ</th>\n",
       "      <th>percentInCaps</th>\n",
       "      <th>numHastags</th>\n",
       "      <th>numMentions</th>\n",
       "      <th>manrt</th>\n",
       "      <th>-H</th>\n",
       "      <th>hour</th>\n",
       "      <th>day</th>\n",
       "      <th>month</th>\n",
       "    </tr>\n",
       "  </thead>\n",
       "  <tbody>\n",
       "    <tr>\n",
       "      <th>0</th>\n",
       "      <td>804052438546317312</td>\n",
       "      <td>'Donald Trump is already helping the working c...</td>\n",
       "      <td>2016-11-30 20:00:14</td>\n",
       "      <td>26295.0</td>\n",
       "      <td>7769.0</td>\n",
       "      <td>Trump</td>\n",
       "      <td>0.093333</td>\n",
       "      <td>0.000000</td>\n",
       "      <td>0.133333</td>\n",
       "      <td>0</td>\n",
       "      <td>0</td>\n",
       "      <td>0</td>\n",
       "      <td>0</td>\n",
       "      <td>20</td>\n",
       "      <td>2</td>\n",
       "      <td>11</td>\n",
       "    </tr>\n",
       "    <tr>\n",
       "      <th>1</th>\n",
       "      <td>804050182170116096</td>\n",
       "      <td>RT @DanScavino: Great interview on @foxandfrie...</td>\n",
       "      <td>2016-11-30 19:51:16</td>\n",
       "      <td>0.0</td>\n",
       "      <td>4025.0</td>\n",
       "      <td>Trump</td>\n",
       "      <td>0.034722</td>\n",
       "      <td>0.000000</td>\n",
       "      <td>0.168142</td>\n",
       "      <td>2</td>\n",
       "      <td>4</td>\n",
       "      <td>0</td>\n",
       "      <td>0</td>\n",
       "      <td>19</td>\n",
       "      <td>2</td>\n",
       "      <td>11</td>\n",
       "    </tr>\n",
       "    <tr>\n",
       "      <th>2</th>\n",
       "      <td>803997374016167936</td>\n",
       "      <td>'President-elect Donald J. Trump today announc...</td>\n",
       "      <td>2016-11-30 16:21:26</td>\n",
       "      <td>16394.0</td>\n",
       "      <td>4984.0</td>\n",
       "      <td>Trump</td>\n",
       "      <td>0.076389</td>\n",
       "      <td>0.000000</td>\n",
       "      <td>0.121739</td>\n",
       "      <td>0</td>\n",
       "      <td>0</td>\n",
       "      <td>0</td>\n",
       "      <td>0</td>\n",
       "      <td>16</td>\n",
       "      <td>2</td>\n",
       "      <td>11</td>\n",
       "    </tr>\n",
       "    <tr>\n",
       "      <th>3</th>\n",
       "      <td>803982850081099776</td>\n",
       "      <td>Join me in Cincinnati, Ohio tomorrow evening a...</td>\n",
       "      <td>2016-11-30 15:23:43</td>\n",
       "      <td>21000.0</td>\n",
       "      <td>6044.0</td>\n",
       "      <td>Trump</td>\n",
       "      <td>0.079137</td>\n",
       "      <td>0.007194</td>\n",
       "      <td>0.148515</td>\n",
       "      <td>0</td>\n",
       "      <td>0</td>\n",
       "      <td>0</td>\n",
       "      <td>0</td>\n",
       "      <td>15</td>\n",
       "      <td>2</td>\n",
       "      <td>11</td>\n",
       "    </tr>\n",
       "    <tr>\n",
       "      <th>4</th>\n",
       "      <td>803931490514075648</td>\n",
       "      <td>Hence, legal documents are being crafted which...</td>\n",
       "      <td>2016-11-30 11:59:38</td>\n",
       "      <td>60793.0</td>\n",
       "      <td>14874.0</td>\n",
       "      <td>Trump</td>\n",
       "      <td>0.021739</td>\n",
       "      <td>0.007246</td>\n",
       "      <td>0.026316</td>\n",
       "      <td>0</td>\n",
       "      <td>0</td>\n",
       "      <td>0</td>\n",
       "      <td>0</td>\n",
       "      <td>11</td>\n",
       "      <td>2</td>\n",
       "      <td>11</td>\n",
       "    </tr>\n",
       "  </tbody>\n",
       "</table>\n",
       "</div>"
      ],
      "text/plain": [
       "                   id                                               text  \\\n",
       "0  804052438546317312  'Donald Trump is already helping the working c...   \n",
       "1  804050182170116096  RT @DanScavino: Great interview on @foxandfrie...   \n",
       "2  803997374016167936  'President-elect Donald J. Trump today announc...   \n",
       "3  803982850081099776  Join me in Cincinnati, Ohio tomorrow evening a...   \n",
       "4  803931490514075648  Hence, legal documents are being crafted which...   \n",
       "\n",
       "           created_at  favorite_count  retweet_count author  \\\n",
       "0 2016-11-30 20:00:14         26295.0         7769.0  Trump   \n",
       "1 2016-11-30 19:51:16             0.0         4025.0  Trump   \n",
       "2 2016-11-30 16:21:26         16394.0         4984.0  Trump   \n",
       "3 2016-11-30 15:23:43         21000.0         6044.0  Trump   \n",
       "4 2016-11-30 11:59:38         60793.0        14874.0  Trump   \n",
       "\n",
       "   percentPunctuation  percentEscQ  percentInCaps  numHastags  numMentions  \\\n",
       "0            0.093333     0.000000       0.133333           0            0   \n",
       "1            0.034722     0.000000       0.168142           2            4   \n",
       "2            0.076389     0.000000       0.121739           0            0   \n",
       "3            0.079137     0.007194       0.148515           0            0   \n",
       "4            0.021739     0.007246       0.026316           0            0   \n",
       "\n",
       "   manrt  -H  hour  day  month  \n",
       "0      0   0    20    2     11  \n",
       "1      0   0    19    2     11  \n",
       "2      0   0    16    2     11  \n",
       "3      0   0    15    2     11  \n",
       "4      0   0    11    2     11  "
      ]
     },
     "execution_count": 4,
     "metadata": {},
     "output_type": "execute_result"
    }
   ],
   "source": [
    "# Extract month,day,and hour from timestamp and append back to data frame\n",
    "\n",
    "weekdayDict = {\"0\": \"M\", \"1\": \"Tu\", \"2\": \"W\", \"3\": \"Th\", \"4\": \"F\", \"5\": \"Sa\", \"6\": \"Su\"}\n",
    "\n",
    "tweets[\"created_at\"] = pd.to_datetime(tweets[\"created_at\"])\n",
    "tweets[\"hour\"] = tweets[\"created_at\"].apply(lambda x: x.hour)\n",
    "tweets[\"day\"] = tweets[\"created_at\"].apply(lambda x: x.weekday())\n",
    "tweets[\"month\"] = tweets[\"created_at\"].apply(lambda x: x.month)\n",
    "\n",
    "# Take a look at the new frame\n",
    "tweets.head()"
   ]
  },
  {
   "cell_type": "code",
   "execution_count": 5,
   "metadata": {
    "collapsed": false
   },
   "outputs": [
    {
     "data": {
      "text/html": [
       "<div>\n",
       "<table border=\"1\" class=\"dataframe\">\n",
       "  <thead>\n",
       "    <tr style=\"text-align: right;\">\n",
       "      <th></th>\n",
       "      <th>favorite_count</th>\n",
       "      <th>retweet_count</th>\n",
       "      <th>percentPunctuation</th>\n",
       "      <th>percentEscQ</th>\n",
       "      <th>percentInCaps</th>\n",
       "      <th>numHastags</th>\n",
       "      <th>numMentions</th>\n",
       "      <th>manrt</th>\n",
       "      <th>-H</th>\n",
       "      <th>hour</th>\n",
       "      <th>day</th>\n",
       "      <th>month</th>\n",
       "    </tr>\n",
       "    <tr>\n",
       "      <th>author</th>\n",
       "      <th></th>\n",
       "      <th></th>\n",
       "      <th></th>\n",
       "      <th></th>\n",
       "      <th></th>\n",
       "      <th></th>\n",
       "      <th></th>\n",
       "      <th></th>\n",
       "      <th></th>\n",
       "      <th></th>\n",
       "      <th></th>\n",
       "      <th></th>\n",
       "    </tr>\n",
       "  </thead>\n",
       "  <tbody>\n",
       "    <tr>\n",
       "      <th>Clinton</th>\n",
       "      <td>7037.183357</td>\n",
       "      <td>3700.711225</td>\n",
       "      <td>0.064635</td>\n",
       "      <td>0.000993</td>\n",
       "      <td>0.094352</td>\n",
       "      <td>0.142835</td>\n",
       "      <td>0.511256</td>\n",
       "      <td>0.000000</td>\n",
       "      <td>0.024065</td>\n",
       "      <td>13.093464</td>\n",
       "      <td>2.578482</td>\n",
       "      <td>8.170936</td>\n",
       "    </tr>\n",
       "    <tr>\n",
       "      <th>Trump</th>\n",
       "      <td>19850.289228</td>\n",
       "      <td>7297.437733</td>\n",
       "      <td>0.059820</td>\n",
       "      <td>0.007819</td>\n",
       "      <td>0.142835</td>\n",
       "      <td>0.491283</td>\n",
       "      <td>0.615816</td>\n",
       "      <td>0.084215</td>\n",
       "      <td>0.000467</td>\n",
       "      <td>12.554016</td>\n",
       "      <td>2.904577</td>\n",
       "      <td>5.647260</td>\n",
       "    </tr>\n",
       "  </tbody>\n",
       "</table>\n",
       "</div>"
      ],
      "text/plain": [
       "         favorite_count  retweet_count  percentPunctuation  percentEscQ  \\\n",
       "author                                                                    \n",
       "Clinton     7037.183357    3700.711225            0.064635     0.000993   \n",
       "Trump      19850.289228    7297.437733            0.059820     0.007819   \n",
       "\n",
       "         percentInCaps  numHastags  numMentions     manrt        -H  \\\n",
       "author                                                                \n",
       "Clinton       0.094352    0.142835     0.511256  0.000000  0.024065   \n",
       "Trump         0.142835    0.491283     0.615816  0.084215  0.000467   \n",
       "\n",
       "              hour       day     month  \n",
       "author                                  \n",
       "Clinton  13.093464  2.578482  8.170936  \n",
       "Trump    12.554016  2.904577  5.647260  "
      ]
     },
     "execution_count": 5,
     "metadata": {},
     "output_type": "execute_result"
    }
   ],
   "source": [
    "# Get a summary of Clinton vs. Trump Tweet attributes\n",
    "tweets.groupby(\"author\").mean()"
   ]
  },
  {
   "cell_type": "code",
   "execution_count": 6,
   "metadata": {
    "collapsed": false
   },
   "outputs": [],
   "source": [
    "xcols = list(tweets.columns)\n",
    "for name in ['author','text','id','created_at', 'month']:\n",
    "    # removing month because it's too predictive; artifact of different times\n",
    "    while name in xcols:\n",
    "        xcols.remove(name)\n",
    "\n",
    "X_others, X_text, y = tweets[xcols], tweets['text'], tweets.author == 'Trump'"
   ]
  },
  {
   "cell_type": "markdown",
   "metadata": {},
   "source": [
    "## Text Model"
   ]
  },
  {
   "cell_type": "code",
   "execution_count": 7,
   "metadata": {
    "collapsed": false
   },
   "outputs": [],
   "source": [
    "X_others_train, X_others_test, X_text_train, X_text_test, y_train, y_test = train_test_split(X_others, X_text, y,\n",
    "                                                                                             test_size = 0.3,\n",
    "                                                                                             random_state = 42)"
   ]
  },
  {
   "cell_type": "code",
   "execution_count": 8,
   "metadata": {
    "collapsed": true
   },
   "outputs": [],
   "source": [
    "kfold = KFold(len(X_others_train), n_folds=5, shuffle=True, random_state=0)"
   ]
  },
  {
   "cell_type": "code",
   "execution_count": 9,
   "metadata": {
    "collapsed": false,
    "scrolled": true
   },
   "outputs": [],
   "source": [
    "ngram_caps = list(range(1,11))\n",
    "aucs = []\n",
    "for param in ngram_caps:\n",
    "    textmodel = Pipeline([('vect', CountVectorizer(stop_words = 'english', ngram_range=(1, param), lowercase = True,\n",
    "                                                max_df= 0.99, min_df = 0.001)), \n",
    "                        ('tfidf', TfidfTransformer()), ('svd', TruncatedSVD(n_components = 1000)),\n",
    "                         ('model', LogisticRegression())])##,)\n",
    "    scores = cross_val_score(textmodel, X_text_train, y_train, cv=kfold)\n",
    "#     print(scores)\n",
    "#     print(\"Mean Score: \", np.mean(scores))\n",
    "\n",
    "    # Build the Model\n",
    "    textmodel.fit(X_text_train, y_train)\n",
    "\n",
    "    preds = textmodel.predict(X_text_test)\n",
    "    acc = sum(preds == y_test)/len(preds)\n",
    "#     print('Param: ' + str(param))\n",
    "#     print('ACC: ' + str(acc))\n",
    "    probs = textmodel.predict_proba(X_text_test)\n",
    "    roc = roc_curve(y_test, probs[:,1])\n",
    "    auc = roc_auc_score(y_test, probs[:,1])\n",
    "#     print('AUC: ' + str(auc))\n",
    "    aucs.append(auc)\n"
   ]
  },
  {
   "cell_type": "code",
   "execution_count": 10,
   "metadata": {
    "collapsed": false
   },
   "outputs": [
    {
     "data": {
      "text/plain": [
       "<matplotlib.text.Text at 0x118a58ef0>"
      ]
     },
     "execution_count": 10,
     "metadata": {},
     "output_type": "execute_result"
    },
    {
     "data": {
      "image/png": "[encoded data removed]",
      "text/plain": [
       "<matplotlib.figure.Figure at 0x117541668>"
      ]
     },
     "metadata": {},
     "output_type": "display_data"
    }
   ],
   "source": [
    "plt.plot(ngram_caps, aucs)\n",
    "plt.title('AUC vs ngram upper bound')\n",
    "plt.xlabel('ngram upper bound')\n",
    "plt.ylabel('ROC AUC score')"
   ]
  },
  {
   "cell_type": "code",
   "execution_count": 11,
   "metadata": {
    "collapsed": false
   },
   "outputs": [
    {
     "data": {
      "text/plain": [
       "<matplotlib.text.Text at 0x119c64f28>"
      ]
     },
     "execution_count": 11,
     "metadata": {},
     "output_type": "execute_result"
    },
    {
     "data": {
      "image/png": "[encoded data removed]",
      "text/plain": [
       "<matplotlib.figure.Figure at 0x119096cc0>"
      ]
     },
     "metadata": {},
     "output_type": "display_data"
    }
   ],
   "source": [
    "plt.figure()\n",
    "plt.plot(roc[0], roc[1])\n",
    "plt.title('ROC curve')\n",
    "plt.xlabel('FP Rate')\n",
    "plt.ylabel('TP Rate')"
   ]
  },
  {
   "cell_type": "markdown",
   "metadata": {},
   "source": [
    "# Non-text Model"
   ]
  },
  {
   "cell_type": "code",
   "execution_count": 12,
   "metadata": {
    "collapsed": false
   },
   "outputs": [
    {
     "name": "stdout",
     "output_type": "stream",
     "text": [
      "[ 0.77345919  0.78789561  0.78622987  0.76790672  0.73403665]\n",
      "LogReg\n",
      "0.769905607996\n",
      "0.746113989637\n",
      "AUC: 0.831157994625\n",
      "[ 0.91171571  0.9044975   0.91338145  0.90283176  0.90838423]\n",
      "XGBoost\n",
      "0.908162132149\n",
      "0.911139896373\n",
      "AUC: 0.969119973277\n",
      "[ 0.93003887  0.93225986  0.93614659  0.92837313  0.93947807]\n",
      "Random Forest\n",
      "0.933259300389\n",
      "0.939637305699\n",
      "AUC: 0.974699604288\n",
      "[ 0.78289839  0.7817879   0.7806774   0.7901166   0.74181011]\n",
      "Naive Bayes\n",
      "0.775458078845\n",
      "0.776683937824\n",
      "AUC: 0.855741586517\n"
     ]
    },
    {
     "data": {
      "image/png": "[encoded data removed]",
      "text/plain": [
       "<matplotlib.figure.Figure at 0x119b39e10>"
      ]
     },
     "metadata": {},
     "output_type": "display_data"
    },
    {
     "data": {
      "image/png": "[encoded data removed]",
      "text/plain": [
       "<matplotlib.figure.Figure at 0x119d13cc0>"
      ]
     },
     "metadata": {},
     "output_type": "display_data"
    },
    {
     "data": {
      "image/png": "[encoded data removed]",
      "text/plain": [
       "<matplotlib.figure.Figure at 0x118fc2a20>"
      ]
     },
     "metadata": {},
     "output_type": "display_data"
    },
    {
     "data": {
      "image/png": "[encoded data removed]",
      "text/plain": [
       "<matplotlib.figure.Figure at 0x11b322fd0>"
      ]
     },
     "metadata": {},
     "output_type": "display_data"
    }
   ],
   "source": [
    "models = [LogisticRegression(), xgb(), rf(), GaussianNB()]\n",
    "modelnames = ['LogReg','XGBoost','Random Forest','Naive Bayes']\n",
    "for i in range(4):\n",
    "    kfold = KFold(len(X_others_train), n_folds=5, shuffle=True, random_state=42)\n",
    "    scores2 = cross_val_score(models[i], X_others_train, y_train, cv=kfold)\n",
    "    print(scores2)\n",
    "    print(modelnames[i])\n",
    "    print(np.mean(scores2))\n",
    "    \n",
    "\n",
    "    # Build the Model\n",
    "    models[i].fit(X_others_train, y_train)\n",
    "    preds_ = models[i].predict(X_others_test)\n",
    "    finalscore_ = sum(preds_ == y_test)/len(y_test)\n",
    "    print(finalscore_)\n",
    "    probs = models[i].predict_proba(X_others_test)\n",
    "    roc = roc_curve(y_test, probs[:,1])\n",
    "    auc = roc_auc_score(y_test, probs[:,1])\n",
    "    print(\"AUC: \" + str(auc))\n",
    "    plt.figure()\n",
    "    plt.plot(roc[0], roc[1])\n",
    "    plt.title('ROC curve ' + modelnames[i])\n",
    "    plt.xlabel('FP Rate')\n",
    "    plt.ylabel('TP Rate')"
   ]
  },
  {
   "cell_type": "code",
   "execution_count": 13,
   "metadata": {
    "collapsed": false
   },
   "outputs": [
    {
     "data": {
      "text/plain": [
       "array([ True, False,  True, ...,  True,  True,  True], dtype=bool)"
      ]
     },
     "execution_count": 13,
     "metadata": {},
     "output_type": "execute_result"
    }
   ],
   "source": [
    "preds"
   ]
  },
  {
   "cell_type": "code",
   "execution_count": 14,
   "metadata": {
    "collapsed": false
   },
   "outputs": [
    {
     "name": "stdout",
     "output_type": "stream",
     "text": [
      "favorite_count: 0.236174006348\n",
      "retweet_count: 0.212696905045\n",
      "percentPunctuation: 0.0805820758571\n",
      "percentEscQ: 0.16511442725\n",
      "percentInCaps: 0.0892737976269\n",
      "numHastags: 0.0453092073581\n",
      "numMentions: 0.0406448829924\n",
      "manrt: 0.0392659500889\n",
      "-H: 0.0103847738623\n",
      "hour: 0.0511890550007\n",
      "day: 0.0293649185712\n"
     ]
    }
   ],
   "source": [
    "coefs = list(X_others_train.columns)\n",
    "feats = list(models[2].feature_importances_)\n",
    "for i in range(len(coefs)):\n",
    "    print(str(coefs[i]) + ': ' + str(feats[i]))"
   ]
  },
  {
   "cell_type": "code",
   "execution_count": 15,
   "metadata": {
    "collapsed": false
   },
   "outputs": [
    {
     "data": {
      "image/png": "[encoded data removed]",
      "text/plain": [
       "<matplotlib.figure.Figure at 0x1188d9be0>"
      ]
     },
     "metadata": {},
     "output_type": "display_data"
    }
   ],
   "source": [
    "importances = models[2].feature_importances_\n",
    "indices = np.argsort(importances)[::-1]\n",
    "feat_labels = X_others_test.columns\n",
    "feat_importance_dict = {}\n",
    "feat_importance_dict[name] = sorted(zip(feat_labels,importances),key=lambda x: x[1])\n",
    "plt.figure(figsize=(10,5))\n",
    "plt.bar(range(X_others_test.shape[1]),\n",
    "       importances[indices],\n",
    "       color='lightblue',\n",
    "       align='center')\n",
    "plt.xticks(range(X_others_test.shape[1]),\n",
    "          feat_labels[indices],rotation=90)\n",
    "plt.xlim([-1,X_others_test.shape[1]])\n",
    "plt.tight_layout()\n",
    "plt.ylabel('Importance')\n",
    "plt.title('FEATURE IMPORTANCE')\n",
    "plt.grid()\n",
    "plt.show()"
   ]
  },
  {
   "cell_type": "code",
   "execution_count": 18,
   "metadata": {
    "collapsed": false
   },
   "outputs": [
    {
     "name": "stdout",
     "output_type": "stream",
     "text": [
      "\n",
      "LogReg\n",
      "\n",
      "Test Score:0.960103626943\n",
      "AUC: 0.991808109778\n",
      "\n",
      "XGBoost\n",
      "\n",
      "Test Score:0.961658031088\n",
      "AUC: 0.993091482641\n",
      "\n",
      "Random Forest\n",
      "\n",
      "Test Score:0.969430051813\n",
      "AUC: 0.987597508278\n",
      "\n",
      "Naive Bayes\n",
      "\n",
      "Test Score:0.959844559585\n",
      "AUC: 0.991873224941\n"
     ]
    },
    {
     "data": {
      "image/png": "[encoded data removed]",
      "text/plain": [
       "<matplotlib.figure.Figure at 0x1195b1400>"
      ]
     },
     "metadata": {},
     "output_type": "display_data"
    },
    {
     "data": {
      "image/png": "[encoded data removed]",
      "text/plain": [
       "<matplotlib.figure.Figure at 0x11883deb8>"
      ]
     },
     "metadata": {},
     "output_type": "display_data"
    },
    {
     "data": {
      "image/png": "[encoded data removed]",
      "text/plain": [
       "<matplotlib.figure.Figure at 0x119344588>"
      ]
     },
     "metadata": {},
     "output_type": "display_data"
    },
    {
     "data": {
      "image/png": "[encoded data removed]",
      "text/plain": [
       "<matplotlib.figure.Figure at 0x11971ec50>"
      ]
     },
     "metadata": {},
     "output_type": "display_data"
    }
   ],
   "source": [
    "probstext = textmodel.predict_proba(X_text_test)[:,1]\n",
    "probsnt = models[1].predict_proba(X_others_test)[:,1]\n",
    "\n",
    "probstext_train = textmodel.predict_proba(X_text_train)[:,1]\n",
    "probsnt_train = models[1].predict_proba(X_others_train)[:,1]\n",
    "\n",
    "X_test2 = pd.DataFrame(data = probstext, columns = ['text'])\n",
    "X_test2['nontext'] = probsnt\n",
    "\n",
    "X_train2 = pd.DataFrame(data = probstext_train, columns = ['text'])\n",
    "X_train2['nontext'] = probsnt_train\n",
    "\n",
    "models2 = [LogisticRegression(), xgb(), rf(), GaussianNB()]\n",
    "for i in range(4):\n",
    "    kfold = KFold(len(X_train2), n_folds=5, shuffle=True, random_state=42)\n",
    "    scores3 = cross_val_score(models2[i], X_train2, y_train, cv=kfold)\n",
    "#     print(scores3)\n",
    "    print('\\n' + modelnames[i] + '\\n')\n",
    "#     print(np.mean(scores3))\n",
    "\n",
    "    # Build the Model\n",
    "    models2[i].fit(X_train2, y_train)\n",
    "    preds__ = models2[i].predict(X_test2)\n",
    "    finalscore__ = sum(preds__ == y_test)/len(y_test)\n",
    "    print(\"Test Score:\" + str(finalscore__))\n",
    "    probs = models2[i].predict_proba(X_test2)\n",
    "    roc = roc_curve(y_test, probs[:,1])\n",
    "    auc = roc_auc_score(y_test, probs[:,1])\n",
    "    print(\"AUC: \" + str(auc))\n",
    "    plt.figure()\n",
    "    plt.plot(roc[0], roc[1])\n",
    "    plt.title('ROC curve ' + modelnames[i])\n",
    "    plt.xlabel('FP Rate')\n",
    "    plt.ylabel('TP Rate')"
   ]
  },
  {
   "cell_type": "code",
   "execution_count": null,
   "metadata": {
    "collapsed": true
   },
   "outputs": [],
   "source": []
  }
 ],
 "metadata": {
  "kernelspec": {
   "display_name": "Python 3",
   "language": "python",
   "name": "python3"
  },
  "language_info": {
   "codemirror_mode": {
    "name": "ipython",
    "version": 3
   },
   "file_extension": ".py",
   "mimetype": "text/x-python",
   "name": "python",
   "nbconvert_exporter": "python",
   "pygments_lexer": "ipython3",
   "version": "3.5.2"
  }
 },
 "nbformat": 4,
 "nbformat_minor": 0
}
