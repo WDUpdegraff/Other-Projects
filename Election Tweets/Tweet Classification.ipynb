{
 "cells": [
  {
   "cell_type": "code",
   "execution_count": 1,
   "metadata": {
    "collapsed": true
   },
   "outputs": [],
   "source": [
    "import pandas as pd\n",
    "import time\n",
    "import numpy as np\n",
    "from sklearn.feature_extraction.text import CountVectorizer, TfidfVectorizer, TfidfTransformer\n",
    "from sklearn.ensemble import RandomForestClassifier as rf\n",
    "from xgboost import XGBClassifier as xgb\n",
    "from sklearn.naive_bayes import MultinomialNB, GaussianNB\n",
    "from sklearn.pipeline import TransformerMixin, FeatureUnion, make_pipeline, make_union, Pipeline\n",
    "from sklearn.linear_model import LogisticRegression\n",
    "from sklearn.grid_search import GridSearchCV\n",
    "from sklearn.cross_validation import cross_val_score, train_test_split, KFold\n",
    "from sklearn.decomposition import TruncatedSVD\n",
    "import matplotlib.pyplot as plt\n",
    "from sklearn.metrics import roc_auc_score, precision_recall_curve, roc_curve\n",
    "%matplotlib inline"
   ]
  },
  {
   "cell_type": "code",
   "execution_count": 2,
   "metadata": {
    "collapsed": false
   },
   "outputs": [
    {
     "data": {
      "text/html": [
       "<div>\n",
       "<table border=\"1\" class=\"dataframe\">\n",
       "  <thead>\n",
       "    <tr style=\"text-align: right;\">\n",
       "      <th></th>\n",
       "      <th>id</th>\n",
       "      <th>text</th>\n",
       "      <th>created_at</th>\n",
       "      <th>favorite_count</th>\n",
       "      <th>retweet_count</th>\n",
       "      <th>author</th>\n",
       "    </tr>\n",
       "  </thead>\n",
       "  <tbody>\n",
       "    <tr>\n",
       "      <th>0</th>\n",
       "      <td>813079058896535552</td>\n",
       "      <td>Merry Christmas and a very, very, very , very ...</td>\n",
       "      <td>Sun Dec 25 17:48:48 +0000 2016</td>\n",
       "      <td>156500.0</td>\n",
       "      <td>40939.0</td>\n",
       "      <td>Trump</td>\n",
       "    </tr>\n",
       "    <tr>\n",
       "      <th>1</th>\n",
       "      <td>813003030186622976</td>\n",
       "      <td>#MerryChristmas https://t.co/5GgDmJrGMS</td>\n",
       "      <td>Sun Dec 25 12:46:41 +0000 2016</td>\n",
       "      <td>123599.0</td>\n",
       "      <td>38682.0</td>\n",
       "      <td>Trump</td>\n",
       "    </tr>\n",
       "    <tr>\n",
       "      <th>2</th>\n",
       "      <td>812775995837218816</td>\n",
       "      <td>Happy #Hanukkah https://t.co/UvZwtykV1E</td>\n",
       "      <td>Sat Dec 24 21:44:32 +0000 2016</td>\n",
       "      <td>68085.0</td>\n",
       "      <td>19416.0</td>\n",
       "      <td>Trump</td>\n",
       "    </tr>\n",
       "    <tr>\n",
       "      <th>3</th>\n",
       "      <td>812773204561379330</td>\n",
       "      <td>The big loss yesterday for Israel in the Unite...</td>\n",
       "      <td>Sat Dec 24 21:33:27 +0000 2016</td>\n",
       "      <td>65890.0</td>\n",
       "      <td>16751.0</td>\n",
       "      <td>Trump</td>\n",
       "    </tr>\n",
       "    <tr>\n",
       "      <th>4</th>\n",
       "      <td>812764662500622336</td>\n",
       "      <td>.@NBCNews purposely left out this part of my n...</td>\n",
       "      <td>Sat Dec 24 20:59:30 +0000 2016</td>\n",
       "      <td>51140.0</td>\n",
       "      <td>14461.0</td>\n",
       "      <td>Trump</td>\n",
       "    </tr>\n",
       "  </tbody>\n",
       "</table>\n",
       "</div>"
      ],
      "text/plain": [
       "                   id                                               text  \\\n",
       "0  813079058896535552  Merry Christmas and a very, very, very , very ...   \n",
       "1  813003030186622976            #MerryChristmas https://t.co/5GgDmJrGMS   \n",
       "2  812775995837218816            Happy #Hanukkah https://t.co/UvZwtykV1E   \n",
       "3  812773204561379330  The big loss yesterday for Israel in the Unite...   \n",
       "4  812764662500622336  .@NBCNews purposely left out this part of my n...   \n",
       "\n",
       "                       created_at  favorite_count  retweet_count author  \n",
       "0  Sun Dec 25 17:48:48 +0000 2016        156500.0        40939.0  Trump  \n",
       "1  Sun Dec 25 12:46:41 +0000 2016        123599.0        38682.0  Trump  \n",
       "2  Sat Dec 24 21:44:32 +0000 2016         68085.0        19416.0  Trump  \n",
       "3  Sat Dec 24 21:33:27 +0000 2016         65890.0        16751.0  Trump  \n",
       "4  Sat Dec 24 20:59:30 +0000 2016         51140.0        14461.0  Trump  "
      ]
     },
     "execution_count": 2,
     "metadata": {},
     "output_type": "execute_result"
    }
   ],
   "source": [
    "trump_tweets = pd.read_csv('realdonaldtrump_tweets.csv')\n",
    "clinton_tweets = pd.read_csv('hillaryclinton_tweets.csv')\n",
    "\n",
    "trump_tweets[\"author\"] = \"Trump\"\n",
    "clinton_tweets[\"author\"] = \"Clinton\"\n",
    "\n",
    "tweets = pd.concat([trump_tweets, clinton_tweets])\n",
    "tweets = tweets[[ u'id', u'text', u'created_at', u'favorite_count', u'retweet_count', u'author']]\n",
    "tweets[\"id\"] = tweets[\"id\"].astype(\"str\")\n",
    "tweets = tweets.reset_index()\n",
    "tweets = tweets.drop(\"index\",1)\n",
    "tweets.head()"
   ]
  },
  {
   "cell_type": "code",
   "execution_count": 3,
   "metadata": {
    "collapsed": false
   },
   "outputs": [
    {
     "data": {
      "text/html": [
       "<div>\n",
       "<table border=\"1\" class=\"dataframe\">\n",
       "  <thead>\n",
       "    <tr style=\"text-align: right;\">\n",
       "      <th></th>\n",
       "      <th>favorite_count</th>\n",
       "      <th>retweet_count</th>\n",
       "      <th>percent_Punctuation</th>\n",
       "      <th>num_!</th>\n",
       "      <th>num_?</th>\n",
       "      <th>percent_In_Caps</th>\n",
       "      <th>num_Hashtags</th>\n",
       "      <th>num_Mentions</th>\n",
       "      <th>manrt</th>\n",
       "      <th>-H</th>\n",
       "    </tr>\n",
       "    <tr>\n",
       "      <th>author</th>\n",
       "      <th></th>\n",
       "      <th></th>\n",
       "      <th></th>\n",
       "      <th></th>\n",
       "      <th></th>\n",
       "      <th></th>\n",
       "      <th></th>\n",
       "      <th></th>\n",
       "      <th></th>\n",
       "      <th></th>\n",
       "    </tr>\n",
       "  </thead>\n",
       "  <tbody>\n",
       "    <tr>\n",
       "      <th>Clinton</th>\n",
       "      <td>7638.408289</td>\n",
       "      <td>4004.224082</td>\n",
       "      <td>0.065067</td>\n",
       "      <td>0.000477</td>\n",
       "      <td>0.000562</td>\n",
       "      <td>0.095382</td>\n",
       "      <td>0.150085</td>\n",
       "      <td>0.516015</td>\n",
       "      <td>0.000000</td>\n",
       "      <td>0.022356</td>\n",
       "    </tr>\n",
       "    <tr>\n",
       "      <th>Trump</th>\n",
       "      <td>22945.582679</td>\n",
       "      <td>8335.531874</td>\n",
       "      <td>0.060318</td>\n",
       "      <td>0.007163</td>\n",
       "      <td>0.000444</td>\n",
       "      <td>0.144547</td>\n",
       "      <td>0.496214</td>\n",
       "      <td>0.583643</td>\n",
       "      <td>0.076277</td>\n",
       "      <td>0.000413</td>\n",
       "    </tr>\n",
       "  </tbody>\n",
       "</table>\n",
       "</div>"
      ],
      "text/plain": [
       "         favorite_count  retweet_count  percent_Punctuation     num_!  \\\n",
       "author                                                                  \n",
       "Clinton     7638.408289    4004.224082             0.065067  0.000477   \n",
       "Trump      22945.582679    8335.531874             0.060318  0.007163   \n",
       "\n",
       "            num_?  percent_In_Caps  num_Hashtags  num_Mentions     manrt  \\\n",
       "author                                                                     \n",
       "Clinton  0.000562         0.095382      0.150085      0.516015  0.000000   \n",
       "Trump    0.000444         0.144547      0.496214      0.583643  0.076277   \n",
       "\n",
       "               -H  \n",
       "author             \n",
       "Clinton  0.022356  \n",
       "Trump    0.000413  "
      ]
     },
     "execution_count": 3,
     "metadata": {},
     "output_type": "execute_result"
    }
   ],
   "source": [
    "def percentInCaps(s):\n",
    "    inCaps = sum(1 for c in s if c.isupper())\n",
    "    inLowerCase = sum(1 for c in s if c.islower())\n",
    "    return inCaps/float(inCaps + inLowerCase) \n",
    "\n",
    "punctuation = '!\"$%&\\'()*+,-./:;<=>?[\\\\]^_`{|}~'\n",
    "\n",
    "def manrt(s):\n",
    "    return ((s[0] in ['\"',\"'\"]) + (s[1] == '@') + (s[-1] in ['\"',\"'\"]) == 3) + 0\n",
    "\n",
    "    \n",
    "tweets[\"percent_Punctuation\"] = tweets[\"text\"].apply(lambda x: sum(1 for c in x if c in punctuation)/float(len(x)))\n",
    "tweets['num_!'] = tweets[\"text\"].apply(lambda x: sum(1 for c in x if c == \"!\")/float(len(x)))\n",
    "tweets['num_?'] = tweets[\"text\"].apply(lambda x: sum(1 for c in x if c == \"?\")/float(len(x)))\n",
    "tweets[\"percent_In_Caps\"] = tweets[\"text\"].apply(lambda x: percentInCaps(x))    \n",
    "tweets[\"num_Hashtags\"] = tweets[\"text\"].apply(lambda x: sum(1 for c in x if c == \"#\"))\n",
    "tweets[\"num_Mentions\"] = tweets[\"text\"].apply(lambda x: sum(1 for c in x if c == \"@\"))\n",
    "tweets[\"manrt\"] = tweets[\"text\"].apply(manrt,1)\n",
    "tweets['-H'] = tweets[\"text\"].apply(lambda x:'-H' in x)\n",
    "\n",
    "\n",
    "\n",
    "# Get a summary of Clinton vs. Trump Tweet attributes\n",
    "tweets.groupby(\"author\").mean()"
   ]
  },
  {
   "cell_type": "code",
   "execution_count": 4,
   "metadata": {
    "collapsed": false
   },
   "outputs": [],
   "source": [
    "# drop the -H tweets to avoid \"cheating\"\n",
    "tweets = tweets[tweets['-H']==0]\n",
    "gcols = tweets.columns.tolist()\n",
    "gcols.remove('-H')\n",
    "tweets = tweets[gcols]"
   ]
  },
  {
   "cell_type": "code",
   "execution_count": 5,
   "metadata": {
    "collapsed": false
   },
   "outputs": [
    {
     "data": {
      "text/html": [
       "<div>\n",
       "<table border=\"1\" class=\"dataframe\">\n",
       "  <thead>\n",
       "    <tr style=\"text-align: right;\">\n",
       "      <th></th>\n",
       "      <th>id</th>\n",
       "      <th>text</th>\n",
       "      <th>created_at</th>\n",
       "      <th>favorite_count</th>\n",
       "      <th>retweet_count</th>\n",
       "      <th>author</th>\n",
       "      <th>percent_Punctuation</th>\n",
       "      <th>num_!</th>\n",
       "      <th>num_?</th>\n",
       "      <th>percent_In_Caps</th>\n",
       "      <th>num_Hashtags</th>\n",
       "      <th>num_Mentions</th>\n",
       "      <th>manrt</th>\n",
       "      <th>hour</th>\n",
       "      <th>day</th>\n",
       "      <th>month</th>\n",
       "    </tr>\n",
       "  </thead>\n",
       "  <tbody>\n",
       "    <tr>\n",
       "      <th>0</th>\n",
       "      <td>813079058896535552</td>\n",
       "      <td>Merry Christmas and a very, very, very , very ...</td>\n",
       "      <td>2016-12-25 17:48:48</td>\n",
       "      <td>156500.0</td>\n",
       "      <td>40939.0</td>\n",
       "      <td>Trump</td>\n",
       "      <td>0.054795</td>\n",
       "      <td>0.013699</td>\n",
       "      <td>0.0</td>\n",
       "      <td>0.089286</td>\n",
       "      <td>0</td>\n",
       "      <td>0</td>\n",
       "      <td>0</td>\n",
       "      <td>17</td>\n",
       "      <td>6</td>\n",
       "      <td>12</td>\n",
       "    </tr>\n",
       "    <tr>\n",
       "      <th>1</th>\n",
       "      <td>813003030186622976</td>\n",
       "      <td>#MerryChristmas https://t.co/5GgDmJrGMS</td>\n",
       "      <td>2016-12-25 12:46:41</td>\n",
       "      <td>123599.0</td>\n",
       "      <td>38682.0</td>\n",
       "      <td>Trump</td>\n",
       "      <td>0.128205</td>\n",
       "      <td>0.000000</td>\n",
       "      <td>0.0</td>\n",
       "      <td>0.258065</td>\n",
       "      <td>1</td>\n",
       "      <td>0</td>\n",
       "      <td>0</td>\n",
       "      <td>12</td>\n",
       "      <td>6</td>\n",
       "      <td>12</td>\n",
       "    </tr>\n",
       "    <tr>\n",
       "      <th>2</th>\n",
       "      <td>812775995837218816</td>\n",
       "      <td>Happy #Hanukkah https://t.co/UvZwtykV1E</td>\n",
       "      <td>2016-12-24 21:44:32</td>\n",
       "      <td>68085.0</td>\n",
       "      <td>19416.0</td>\n",
       "      <td>Trump</td>\n",
       "      <td>0.128205</td>\n",
       "      <td>0.000000</td>\n",
       "      <td>0.0</td>\n",
       "      <td>0.200000</td>\n",
       "      <td>1</td>\n",
       "      <td>0</td>\n",
       "      <td>0</td>\n",
       "      <td>21</td>\n",
       "      <td>5</td>\n",
       "      <td>12</td>\n",
       "    </tr>\n",
       "    <tr>\n",
       "      <th>3</th>\n",
       "      <td>812773204561379330</td>\n",
       "      <td>The big loss yesterday for Israel in the Unite...</td>\n",
       "      <td>2016-12-24 21:33:27</td>\n",
       "      <td>65890.0</td>\n",
       "      <td>16751.0</td>\n",
       "      <td>Trump</td>\n",
       "      <td>0.021429</td>\n",
       "      <td>0.007143</td>\n",
       "      <td>0.0</td>\n",
       "      <td>0.044643</td>\n",
       "      <td>0</td>\n",
       "      <td>0</td>\n",
       "      <td>0</td>\n",
       "      <td>21</td>\n",
       "      <td>5</td>\n",
       "      <td>12</td>\n",
       "    </tr>\n",
       "    <tr>\n",
       "      <th>4</th>\n",
       "      <td>812764662500622336</td>\n",
       "      <td>.@NBCNews purposely left out this part of my n...</td>\n",
       "      <td>2016-12-24 20:59:30</td>\n",
       "      <td>51140.0</td>\n",
       "      <td>14461.0</td>\n",
       "      <td>Trump</td>\n",
       "      <td>0.043165</td>\n",
       "      <td>0.007194</td>\n",
       "      <td>0.0</td>\n",
       "      <td>0.045872</td>\n",
       "      <td>0</td>\n",
       "      <td>1</td>\n",
       "      <td>0</td>\n",
       "      <td>20</td>\n",
       "      <td>5</td>\n",
       "      <td>12</td>\n",
       "    </tr>\n",
       "  </tbody>\n",
       "</table>\n",
       "</div>"
      ],
      "text/plain": [
       "                   id                                               text  \\\n",
       "0  813079058896535552  Merry Christmas and a very, very, very , very ...   \n",
       "1  813003030186622976            #MerryChristmas https://t.co/5GgDmJrGMS   \n",
       "2  812775995837218816            Happy #Hanukkah https://t.co/UvZwtykV1E   \n",
       "3  812773204561379330  The big loss yesterday for Israel in the Unite...   \n",
       "4  812764662500622336  .@NBCNews purposely left out this part of my n...   \n",
       "\n",
       "           created_at  favorite_count  retweet_count author  \\\n",
       "0 2016-12-25 17:48:48        156500.0        40939.0  Trump   \n",
       "1 2016-12-25 12:46:41        123599.0        38682.0  Trump   \n",
       "2 2016-12-24 21:44:32         68085.0        19416.0  Trump   \n",
       "3 2016-12-24 21:33:27         65890.0        16751.0  Trump   \n",
       "4 2016-12-24 20:59:30         51140.0        14461.0  Trump   \n",
       "\n",
       "   percent_Punctuation     num_!  num_?  percent_In_Caps  num_Hashtags  \\\n",
       "0             0.054795  0.013699    0.0         0.089286             0   \n",
       "1             0.128205  0.000000    0.0         0.258065             1   \n",
       "2             0.128205  0.000000    0.0         0.200000             1   \n",
       "3             0.021429  0.007143    0.0         0.044643             0   \n",
       "4             0.043165  0.007194    0.0         0.045872             0   \n",
       "\n",
       "   num_Mentions  manrt  hour  day  month  \n",
       "0             0      0    17    6     12  \n",
       "1             0      0    12    6     12  \n",
       "2             0      0    21    5     12  \n",
       "3             0      0    21    5     12  \n",
       "4             1      0    20    5     12  "
      ]
     },
     "execution_count": 5,
     "metadata": {},
     "output_type": "execute_result"
    }
   ],
   "source": [
    "# Extract month,day,and hour from timestamp and append back to data frame\n",
    "\n",
    "weekdayDict = {\"0\": \"M\", \"1\": \"Tu\", \"2\": \"W\", \"3\": \"Th\", \"4\": \"F\", \"5\": \"Sa\", \"6\": \"Su\"}\n",
    "\n",
    "tweets[\"created_at\"] = pd.to_datetime(tweets[\"created_at\"])\n",
    "tweets[\"hour\"] = tweets[\"created_at\"].apply(lambda x: x.hour)\n",
    "tweets[\"day\"] = tweets[\"created_at\"].apply(lambda x: x.weekday())\n",
    "tweets[\"month\"] = tweets[\"created_at\"].apply(lambda x: x.month)\n",
    "\n",
    "# Take a look at the new frame\n",
    "tweets.head()"
   ]
  },
  {
   "cell_type": "code",
   "execution_count": 6,
   "metadata": {
    "collapsed": false
   },
   "outputs": [
    {
     "data": {
      "text/html": [
       "<div>\n",
       "<table border=\"1\" class=\"dataframe\">\n",
       "  <thead>\n",
       "    <tr style=\"text-align: right;\">\n",
       "      <th></th>\n",
       "      <th>favorite_count</th>\n",
       "      <th>retweet_count</th>\n",
       "      <th>percent_Punctuation</th>\n",
       "      <th>num_!</th>\n",
       "      <th>num_?</th>\n",
       "      <th>percent_In_Caps</th>\n",
       "      <th>num_Hashtags</th>\n",
       "      <th>num_Mentions</th>\n",
       "      <th>manrt</th>\n",
       "      <th>hour</th>\n",
       "      <th>day</th>\n",
       "      <th>month</th>\n",
       "    </tr>\n",
       "    <tr>\n",
       "      <th>author</th>\n",
       "      <th></th>\n",
       "      <th></th>\n",
       "      <th></th>\n",
       "      <th></th>\n",
       "      <th></th>\n",
       "      <th></th>\n",
       "      <th></th>\n",
       "      <th></th>\n",
       "      <th></th>\n",
       "      <th></th>\n",
       "      <th></th>\n",
       "      <th></th>\n",
       "    </tr>\n",
       "  </thead>\n",
       "  <tbody>\n",
       "    <tr>\n",
       "      <th>Clinton</th>\n",
       "      <td>7443.198315</td>\n",
       "      <td>3984.059107</td>\n",
       "      <td>0.065315</td>\n",
       "      <td>0.000459</td>\n",
       "      <td>0.000573</td>\n",
       "      <td>0.095740</td>\n",
       "      <td>0.150976</td>\n",
       "      <td>0.520460</td>\n",
       "      <td>0.000000</td>\n",
       "      <td>13.007221</td>\n",
       "      <td>2.558171</td>\n",
       "      <td>8.516181</td>\n",
       "    </tr>\n",
       "    <tr>\n",
       "      <th>Trump</th>\n",
       "      <td>22950.818044</td>\n",
       "      <td>8337.445041</td>\n",
       "      <td>0.060332</td>\n",
       "      <td>0.007166</td>\n",
       "      <td>0.000444</td>\n",
       "      <td>0.144563</td>\n",
       "      <td>0.496419</td>\n",
       "      <td>0.583196</td>\n",
       "      <td>0.076309</td>\n",
       "      <td>12.444490</td>\n",
       "      <td>2.897107</td>\n",
       "      <td>6.356612</td>\n",
       "    </tr>\n",
       "  </tbody>\n",
       "</table>\n",
       "</div>"
      ],
      "text/plain": [
       "         favorite_count  retweet_count  percent_Punctuation     num_!  \\\n",
       "author                                                                  \n",
       "Clinton     7443.198315    3984.059107             0.065315  0.000459   \n",
       "Trump      22950.818044    8337.445041             0.060332  0.007166   \n",
       "\n",
       "            num_?  percent_In_Caps  num_Hashtags  num_Mentions     manrt  \\\n",
       "author                                                                     \n",
       "Clinton  0.000573         0.095740      0.150976      0.520460  0.000000   \n",
       "Trump    0.000444         0.144563      0.496419      0.583196  0.076309   \n",
       "\n",
       "              hour       day     month  \n",
       "author                                  \n",
       "Clinton  13.007221  2.558171  8.516181  \n",
       "Trump    12.444490  2.897107  6.356612  "
      ]
     },
     "execution_count": 6,
     "metadata": {},
     "output_type": "execute_result"
    }
   ],
   "source": [
    "# Get a summary of Clinton vs. Trump Tweet attributes\n",
    "tweets.groupby(\"author\").mean()"
   ]
  },
  {
   "cell_type": "markdown",
   "metadata": {},
   "source": [
    "Month appears unfair to use; the average is differennt because of the different months in the sample, and in any case we have no reason to suspect strong recurring seasonality. So I eliminate month.\n",
    "\n",
    "I now have two sets of features; one with only inherent tweet features (other than the month) and one with reaction features as well."
   ]
  },
  {
   "cell_type": "code",
   "execution_count": 7,
   "metadata": {
    "collapsed": false
   },
   "outputs": [
    {
     "data": {
      "text/plain": [
       "Index(['id', 'text', 'created_at', 'favorite_count', 'retweet_count', 'author',\n",
       "       'percent_Punctuation', 'num_!', 'num_?', 'percent_In_Caps',\n",
       "       'num_Hashtags', 'num_Mentions', 'manrt', 'hour', 'day', 'month'],\n",
       "      dtype='object')"
      ]
     },
     "execution_count": 7,
     "metadata": {},
     "output_type": "execute_result"
    }
   ],
   "source": [
    "tweets.columns"
   ]
  },
  {
   "cell_type": "code",
   "execution_count": 8,
   "metadata": {
    "collapsed": false
   },
   "outputs": [],
   "source": [
    "tfeats = ['percent_Punctuation', 'num_!', 'num_?', 'percent_In_Caps',\n",
    "          'num_Hashtags', 'num_Mentions', 'manrt', 'hour', 'day']\n",
    "rfeats = tfeats[:]\n",
    "rfeats.extend(['favorite_count', 'retweet_count'])"
   ]
  },
  {
   "cell_type": "code",
   "execution_count": 9,
   "metadata": {
    "collapsed": false
   },
   "outputs": [],
   "source": [
    "# for name in ['author','text','id','created_at', 'month']:  \n",
    "#     # removing month because it's unfairly predictive; you won't know in advance of a month\n",
    "#     while name in xcols:\n",
    "#         xcols.remove(name)\n",
    "\n",
    "X_tfeats, X_text, X_rfeats, y = tweets[tfeats], tweets['text'], tweets[rfeats], tweets.author == 'Trump'"
   ]
  },
  {
   "cell_type": "code",
   "execution_count": 10,
   "metadata": {
    "collapsed": false
   },
   "outputs": [],
   "source": [
    "X_tfeats_train, X_tfeats_test, X_rfeats_train, X_rfeats_test, X_text_train, X_text_test, y_train, y_test = train_test_split(\n",
    "                                                                                        X_tfeats, X_rfeats, X_text, y,\n",
    "                                                                                             test_size = 0.3,\n",
    "                                                                                             random_state = 42)"
   ]
  },
  {
   "cell_type": "markdown",
   "metadata": {},
   "source": [
    "## Ngrams Text Model"
   ]
  },
  {
   "cell_type": "code",
   "execution_count": 11,
   "metadata": {
    "collapsed": false,
    "scrolled": true
   },
   "outputs": [],
   "source": [
    "ngram_caps = list(range(1,11))\n",
    "aucs = []\n",
    "models_ngram = {}\n",
    "for param in ngram_caps:\n",
    "    textmodel = Pipeline([('vect', CountVectorizer(stop_words = 'english', ngram_range=(1, param), lowercase = True,\n",
    "                                                max_df= 0.99, min_df = 0.001)), \n",
    "                        ('tfidf', TfidfTransformer()), ('svd', TruncatedSVD(n_components = 1000)),\n",
    "                         ('model', LogisticRegression())])##,)\n",
    "    scores = cross_val_score(textmodel, X_text_train, y_train, cv=5, scoring = 'roc_auc')\n",
    "    textmodel.fit(X_text_train, y_train)\n",
    "    models_ngram[param] = textmodel\n",
    "    aucs.append(np.mean(scores))\n"
   ]
  },
  {
   "cell_type": "code",
   "execution_count": 12,
   "metadata": {
    "collapsed": false
   },
   "outputs": [
    {
     "data": {
      "text/plain": [
       "<matplotlib.text.Text at 0x1264bd080>"
      ]
     },
     "execution_count": 12,
     "metadata": {},
     "output_type": "execute_result"
    },
    {
     "data": {
      "image/png": "[encoded data removed]",
      "text/plain": [
       "<matplotlib.figure.Figure at 0x11809d160>"
      ]
     },
     "metadata": {},
     "output_type": "display_data"
    }
   ],
   "source": [
    "plt.plot(ngram_caps, aucs)\n",
    "plt.title('AUC vs ngram upper bound')\n",
    "plt.xlabel('ngram upper bound')\n",
    "plt.ylabel('ROC AUC score')"
   ]
  },
  {
   "cell_type": "markdown",
   "metadata": {
    "collapsed": false
   },
   "source": [
    "Based on this, I cap the Ngram ceiling at 2; further improvements seem more signal than noise and don't help much. Looking at the curve for the test set."
   ]
  },
  {
   "cell_type": "code",
   "execution_count": 13,
   "metadata": {
    "collapsed": false
   },
   "outputs": [],
   "source": [
    "model_ngram = models_ngram[2]"
   ]
  },
  {
   "cell_type": "code",
   "execution_count": 14,
   "metadata": {
    "collapsed": false
   },
   "outputs": [
    {
     "data": {
      "text/plain": [
       "<matplotlib.text.Text at 0x129606e10>"
      ]
     },
     "execution_count": 14,
     "metadata": {},
     "output_type": "execute_result"
    },
    {
     "data": {
      "image/png": "[encoded data removed]",
      "text/plain": [
       "<matplotlib.figure.Figure at 0x12cee6978>"
      ]
     },
     "metadata": {},
     "output_type": "display_data"
    }
   ],
   "source": [
    "roc = roc_curve(y_test, model_ngram.predict_proba(X_text_test)[:,1])\n",
    "plt.figure()\n",
    "plt.plot(roc[0], roc[1])\n",
    "plt.title('ROC curve')\n",
    "plt.xlabel('FP Rate')\n",
    "plt.ylabel('TP Rate')"
   ]
  },
  {
   "cell_type": "markdown",
   "metadata": {},
   "source": [
    "# Tweet Features"
   ]
  },
  {
   "cell_type": "code",
   "execution_count": 15,
   "metadata": {
    "collapsed": true
   },
   "outputs": [],
   "source": [
    "def modelchecks(models, modelnames, Xtr, Xte, ytr, yte):\n",
    "    modelsdict = {}\n",
    "    for i in range(len(models)):\n",
    "        scores = cross_val_score(models[i], X_tfeats_train, y_train, cv=5, scoring = 'roc_auc')\n",
    "        scoresp = str(scores)[1:-1]\n",
    "        print('\\n' + modelnames[i] + ':\\n')\n",
    "        print('Cross Val AUC scores: ' + scoresp)\n",
    "        print('\\nAUC Avg: ' + str(np.mean(scores)))\n",
    "#         print(np.mean(scores))\n",
    "        models[i].fit(Xtr, ytr)\n",
    "        probs = models[i].predict_proba(Xte)\n",
    "        roc = roc_curve(yte, probs[:,1])\n",
    "        auc = roc_auc_score(yte, probs[:,1])\n",
    "        modelsdict[modelnames[i]] = models[i]\n",
    "#         print(\"\\nAUC: \" + str(auc))\n",
    "        plt.figure()\n",
    "        plt.plot(roc[0], roc[1])\n",
    "        plt.title('ROC curve ' + modelnames[i])\n",
    "        plt.xlabel('FP Rate')\n",
    "        plt.ylabel('TP Rate')\n",
    "    return modelsdict\n"
   ]
  },
  {
   "cell_type": "code",
   "execution_count": 16,
   "metadata": {
    "collapsed": false
   },
   "outputs": [
    {
     "name": "stdout",
     "output_type": "stream",
     "text": [
      "\n",
      "LogReg:\n",
      "\n",
      "Cross Val AUC scores:  0.78279966  0.75972833  0.76456172  0.78068815  0.75823065\n",
      "\n",
      "AUC Avg: 0.769201704163\n",
      "\n",
      "XGBoost:\n",
      "\n",
      "Cross Val AUC scores:  0.93068364  0.92103795  0.92695731  0.93135389  0.92738188\n",
      "\n",
      "AUC Avg: 0.927482932891\n",
      "\n",
      "Random Forest:\n",
      "\n",
      "Cross Val AUC scores:  0.96501407  0.9559079   0.96023057  0.96164158  0.95998504\n",
      "\n",
      "AUC Avg: 0.960555832004\n",
      "\n",
      "Naive Bayes:\n",
      "\n",
      "Cross Val AUC scores:  0.87437643  0.86163117  0.87769816  0.86220438  0.85389009\n",
      "\n",
      "AUC Avg: 0.865960044872\n"
     ]
    },
    {
     "data": {
      "image/png": "[encoded data removed]",
      "text/plain": [
       "<matplotlib.figure.Figure at 0x11809da20>"
      ]
     },
     "metadata": {},
     "output_type": "display_data"
    },
    {
     "data": {
      "image/png": "[encoded data removed]",
      "text/plain": [
       "<matplotlib.figure.Figure at 0x1393edf60>"
      ]
     },
     "metadata": {},
     "output_type": "display_data"
    },
    {
     "data": {
      "image/png": "[encoded data removed]",
      "text/plain": [
       "<matplotlib.figure.Figure at 0x12e9349e8>"
      ]
     },
     "metadata": {},
     "output_type": "display_data"
    },
    {
     "data": {
      "image/png": "[encoded data removed]",
      "text/plain": [
       "<matplotlib.figure.Figure at 0x1296439e8>"
      ]
     },
     "metadata": {},
     "output_type": "display_data"
    }
   ],
   "source": [
    "models_tfeats = modelchecks([LogisticRegression(), xgb(), rf(), GaussianNB()],\n",
    "                             ['LogReg','XGBoost','Random Forest','Naive Bayes'],\n",
    "                             X_tfeats_train,\n",
    "                             X_tfeats_test,\n",
    "                             y_train,\n",
    "                             y_test)"
   ]
  },
  {
   "cell_type": "markdown",
   "metadata": {},
   "source": [
    "Random Forest does best; using that."
   ]
  },
  {
   "cell_type": "code",
   "execution_count": 17,
   "metadata": {
    "collapsed": false
   },
   "outputs": [],
   "source": [
    "model_tfeats = models_tfeats['Random Forest']"
   ]
  },
  {
   "cell_type": "code",
   "execution_count": 18,
   "metadata": {
    "collapsed": false
   },
   "outputs": [],
   "source": [
    "def plotimps(imps, labs, title):\n",
    "    importances, labels = np.asarray(imps), np.asarray(labs)\n",
    "    indices = np.argsort(importances)[::-1]\n",
    "    plt.figure(figsize=(10,5))\n",
    "    plt.bar(range(len(importances)),\n",
    "       importances[indices],\n",
    "       color='lightblue',\n",
    "       align='center')\n",
    "    plt.xticks(range(len(importances)),\n",
    "        labels[indices],\n",
    "        rotation=90)\n",
    "    plt.xlim([-1,len(importances)])\n",
    "    plt.tight_layout()\n",
    "    plt.ylabel('Importance')\n",
    "    plt.title('FEATURE IMPORTANCES -- ' + title)\n",
    "    plt.grid()\n",
    "    plt.show()\n",
    "    return indices"
   ]
  },
  {
   "cell_type": "code",
   "execution_count": 19,
   "metadata": {
    "collapsed": false
   },
   "outputs": [
    {
     "data": {
      "image/png": "[encoded data removed]",
      "text/plain": [
       "<matplotlib.figure.Figure at 0x128f10ac8>"
      ]
     },
     "metadata": {},
     "output_type": "display_data"
    },
    {
     "data": {
      "text/plain": [
       "array([1, 3, 0, 7, 8, 4, 5, 6, 2])"
      ]
     },
     "execution_count": 19,
     "metadata": {},
     "output_type": "execute_result"
    }
   ],
   "source": [
    "plotimps(model_tfeats.feature_importances_,tfeats, 'TWEET FEATURES')"
   ]
  },
  {
   "cell_type": "markdown",
   "metadata": {},
   "source": [
    "# With Reaction Features"
   ]
  },
  {
   "cell_type": "code",
   "execution_count": 20,
   "metadata": {
    "collapsed": false
   },
   "outputs": [
    {
     "name": "stdout",
     "output_type": "stream",
     "text": [
      "\n",
      "LogReg:\n",
      "\n",
      "Cross Val AUC scores:  0.78278652  0.75972833  0.76456266  0.78068815  0.75823065\n",
      "\n",
      "AUC Avg: 0.769199262639\n",
      "\n",
      "XGBoost:\n",
      "\n",
      "Cross Val AUC scores:  0.93068364  0.92103795  0.92695731  0.93135389  0.92738188\n",
      "\n",
      "AUC Avg: 0.927482932891\n",
      "\n",
      "Random Forest:\n",
      "\n",
      "Cross Val AUC scores:  0.96529721  0.95843272  0.96085711  0.96346714  0.96241973\n",
      "\n",
      "AUC Avg: 0.962094782455\n",
      "\n",
      "Naive Bayes:\n",
      "\n",
      "Cross Val AUC scores:  0.87437643  0.86163117  0.87769816  0.86220438  0.85389009\n",
      "\n",
      "AUC Avg: 0.865960044872\n"
     ]
    },
    {
     "data": {
      "image/png": "[encoded data removed]",
      "text/plain": [
       "<matplotlib.figure.Figure at 0x1277b2898>"
      ]
     },
     "metadata": {},
     "output_type": "display_data"
    },
    {
     "data": {
      "image/png": "[encoded data removed]",
      "text/plain": [
       "<matplotlib.figure.Figure at 0x138453cc0>"
      ]
     },
     "metadata": {},
     "output_type": "display_data"
    },
    {
     "data": {
      "image/png": "[encoded data removed]",
      "text/plain": [
       "<matplotlib.figure.Figure at 0x1306cfef0>"
      ]
     },
     "metadata": {},
     "output_type": "display_data"
    },
    {
     "data": {
      "image/png": "[encoded data removed]",
      "text/plain": [
       "<matplotlib.figure.Figure at 0x129e39e48>"
      ]
     },
     "metadata": {},
     "output_type": "display_data"
    }
   ],
   "source": [
    "models_rfeats = modelchecks([LogisticRegression(), xgb(), rf(), GaussianNB()],\n",
    "                             ['LogReg','XGBoost','Random Forest','Naive Bayes'],\n",
    "                             X_rfeats_train,\n",
    "                             X_rfeats_test,\n",
    "                             y_train,\n",
    "                             y_test)"
   ]
  },
  {
   "cell_type": "markdown",
   "metadata": {},
   "source": [
    "These do not significantly improve predictive power, so I will leave them out.\n",
    "\n",
    "Next I use a logistic regression to combine the two models."
   ]
  },
  {
   "cell_type": "code",
   "execution_count": 21,
   "metadata": {
    "collapsed": false
   },
   "outputs": [
    {
     "name": "stdout",
     "output_type": "stream",
     "text": [
      "AUC: 0.988923747262\n",
      "Accuracy: 0.954319312528\n"
     ]
    },
    {
     "data": {
      "text/plain": [
       "<matplotlib.text.Text at 0x12ea5de10>"
      ]
     },
     "execution_count": 21,
     "metadata": {},
     "output_type": "execute_result"
    },
    {
     "data": {
      "image/png": "[encoded data removed]",
      "text/plain": [
       "<matplotlib.figure.Figure at 0x12ff49518>"
      ]
     },
     "metadata": {},
     "output_type": "display_data"
    }
   ],
   "source": [
    "probstext_test = model_ngram.predict_proba(X_text_test)[:,1]\n",
    "probsnt_test = model_tfeats.predict_proba(X_tfeats_test)[:,1]\n",
    "\n",
    "probstext_train = model_ngram.predict_proba(X_text_train)[:,1]\n",
    "probsnt_train = model_tfeats.predict_proba(X_tfeats_train)[:,1]\n",
    "\n",
    "\n",
    "\n",
    "X_test2 = pd.DataFrame(data = probstext_test, columns = ['text'])\n",
    "X_test2['nontext'] = probsnt_test\n",
    "\n",
    "X_train2 = pd.DataFrame(data = probstext_train, columns = ['text'])\n",
    "X_train2['nontext'] = probsnt_train\n",
    "\n",
    "model_combined = LogisticRegression()\n",
    "\n",
    "model_combined.fit(X_train2,y_train)\n",
    "preds = model_combined.predict(X_test2)\n",
    "acc = sum(preds == y_test)/len(y_test)\n",
    "probs = model_combined.predict_proba(X_test2)\n",
    "roc = roc_curve(y_test, probs[:,1])\n",
    "auc = roc_auc_score(y_test, probs[:,1])\n",
    "print(\"AUC: \" + str(auc))\n",
    "print(\"Accuracy: \" + str(acc))\n",
    "plt.figure()\n",
    "plt.plot(roc[0], roc[1])\n",
    "plt.title('ROC curve combined')\n",
    "plt.xlabel('FP Rate')\n",
    "plt.ylabel('TP Rate')\n"
   ]
  }
 ],
 "metadata": {
  "kernelspec": {
   "display_name": "Python 3",
   "language": "python",
   "name": "python3"
  },
  "language_info": {
   "codemirror_mode": {
    "name": "ipython",
    "version": 3
   },
   "file_extension": ".py",
   "mimetype": "text/x-python",
   "name": "python",
   "nbconvert_exporter": "python",
   "pygments_lexer": "ipython3",
   "version": "3.5.2"
  }
 },
 "nbformat": 4,
 "nbformat_minor": 0
}
